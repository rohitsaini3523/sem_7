{
 "cells": [
  {
   "cell_type": "code",
   "execution_count": 3,
   "metadata": {},
   "outputs": [
    {
     "name": "stdout",
     "output_type": "stream",
     "text": [
      "Epoch 1/10\n",
      "1407/1407 [==============================] - 175s 124ms/step - loss: 1.0237 - accuracy: 0.6422 - val_loss: 1.1419 - val_accuracy: 0.6000\n",
      "Epoch 2/10\n",
      "1407/1407 [==============================] - 182s 130ms/step - loss: 1.0119 - accuracy: 0.6436 - val_loss: 1.1327 - val_accuracy: 0.6042\n",
      "Epoch 3/10\n",
      "1407/1407 [==============================] - 181s 128ms/step - loss: 0.9990 - accuracy: 0.6516 - val_loss: 1.1439 - val_accuracy: 0.6004\n",
      "Epoch 4/10\n",
      "1407/1407 [==============================] - 179s 127ms/step - loss: 0.9897 - accuracy: 0.6550 - val_loss: 1.1284 - val_accuracy: 0.6088\n",
      "Epoch 5/10\n",
      "1407/1407 [==============================] - 179s 127ms/step - loss: 0.9784 - accuracy: 0.6586 - val_loss: 1.1291 - val_accuracy: 0.6068\n",
      "Epoch 6/10\n",
      "1407/1407 [==============================] - 180s 128ms/step - loss: 0.9704 - accuracy: 0.6599 - val_loss: 1.1413 - val_accuracy: 0.6038\n",
      "Epoch 7/10\n",
      "1407/1407 [==============================] - 180s 128ms/step - loss: 0.9598 - accuracy: 0.6653 - val_loss: 1.1204 - val_accuracy: 0.6126\n",
      "Epoch 8/10\n",
      "1407/1407 [==============================] - 185s 132ms/step - loss: 0.9494 - accuracy: 0.6673 - val_loss: 1.1400 - val_accuracy: 0.6060\n",
      "Epoch 9/10\n",
      "1407/1407 [==============================] - 184s 131ms/step - loss: 0.9421 - accuracy: 0.6708 - val_loss: 1.1304 - val_accuracy: 0.6058\n",
      "Epoch 10/10\n",
      "1407/1407 [==============================] - 192s 137ms/step - loss: 0.9333 - accuracy: 0.6743 - val_loss: 1.1333 - val_accuracy: 0.6084\n",
      "313/313 [==============================] - 38s 121ms/step\n",
      "Accuracy: 60.05%\n"
     ]
    },
    {
     "name": "stderr",
     "output_type": "stream",
     "text": [
      "c:\\Users\\rohit\\AppData\\Local\\Programs\\Python\\Python311\\Lib\\site-packages\\keras\\src\\engine\\training.py:3000: UserWarning: You are saving your model as an HDF5 file via `model.save()`. This file format is considered legacy. We recommend using instead the native Keras format, e.g. `model.save('my_model.keras')`.\n",
      "  saving_api.save_model(\n"
     ]
    }
   ],
   "source": [
    "import numpy as np\n",
    "from tensorflow.keras.datasets import cifar10\n",
    "from tensorflow.keras.applications.vgg16 import VGG16, preprocess_input\n",
    "from tensorflow.keras.models import Model\n",
    "from tensorflow.keras.layers import Dense, Flatten\n",
    "from tensorflow.keras.utils import to_categorical\n",
    "from sklearn.model_selection import train_test_split\n",
    "from sklearn.metrics import accuracy_score\n",
    "from tensorflow.keras.models import load_model\n",
    "\n",
    "# Load CIFAR-10 dataset\n",
    "(X_train, y_train), (X_test, y_test) = cifar10.load_data()\n",
    "\n",
    "# Normalize pixel values to be between 0 and 1\n",
    "X_train = X_train.astype('float32') / 255.0\n",
    "X_test = X_test.astype('float32') / 255.0\n",
    "\n",
    "# One-hot encode labels\n",
    "y_train = to_categorical(y_train, 10)\n",
    "y_test = to_categorical(y_test, 10)\n",
    "\n",
    "# Split the data into training and testing sets\n",
    "X_train, X_val, y_train, y_val = train_test_split(\n",
    "    X_train, y_train, test_size=0.1, random_state=42)\n",
    "\n",
    "# Load pre-trained VGG16 model\n",
    "base_model = VGG16(weights='imagenet', include_top=False,\n",
    "                   input_shape=(32, 32, 3))\n",
    "\n",
    "# Freeze convolutional layers\n",
    "for layer in base_model.layers:\n",
    "    layer.trainable = False\n",
    "\n",
    "# Create a new model by adding custom dense layers on top of VGG16\n",
    "x = Flatten()(base_model.output)\n",
    "x = Dense(64, activation='relu')(x)\n",
    "output = Dense(10, activation='softmax')(x)\n",
    "\n",
    "# load the saved model\n",
    "try:\n",
    "    model = load_model('model.h5')\n",
    "except:\n",
    "    model = None\n",
    "# if not found then create a new model\n",
    "if model is None:\n",
    "    model = Model(inputs=base_model.input, outputs=output)\n",
    "\n",
    "# Compile the model\n",
    "model.compile(optimizer='adam', loss='categorical_crossentropy',\n",
    "              metrics=['accuracy'])\n",
    "\n",
    "# Train the model\n",
    "model.fit(X_train, y_train, epochs=10, validation_data=(X_val, y_val))\n",
    "\n",
    "# Evaluate the model\n",
    "y_pred = np.argmax(model.predict(X_test), axis=1)\n",
    "y_true = np.argmax(y_test, axis=1)\n",
    "\n",
    "# save the model\n",
    "model.save('model.h5')\n",
    "\n",
    "accuracy = accuracy_score(y_true, y_pred)\n",
    "print(f\"Accuracy: {accuracy * 100:.2f}%\")"
   ]
  }
 ],
 "metadata": {
  "kernelspec": {
   "display_name": "Python 3",
   "language": "python",
   "name": "python3"
  },
  "language_info": {
   "codemirror_mode": {
    "name": "ipython",
    "version": 3
   },
   "file_extension": ".py",
   "mimetype": "text/x-python",
   "name": "python",
   "nbconvert_exporter": "python",
   "pygments_lexer": "ipython3",
   "version": "3.11.5"
  }
 },
 "nbformat": 4,
 "nbformat_minor": 2
}
