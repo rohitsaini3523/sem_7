{
 "cells": [
  {
   "cell_type": "code",
   "execution_count": 1,
   "metadata": {},
   "outputs": [
    {
     "name": "stdout",
     "output_type": "stream",
     "text": [
      "10\n"
     ]
    }
   ],
   "source": [
    "import tensorflow as tf\n",
    "%load_ext tensorboard \n",
    "#load tensorBoard extension\n",
    "\n",
    "with tf.compat.v1.Session() as session:\n",
    "    a = tf.constant(4,name=\"input_A\")\n",
    "    b = tf.constant(6,name=\"input_b\")\n",
    "    c = tf.add(a,b,name=\"Result\")\n",
    "    writer = tf.compat.v1.summary.FileWriter(\"./logs\",session.graph)\n",
    "    print(session.run(c))\n",
    "    session.close()"
   ]
  }
 ],
 "metadata": {
  "kernelspec": {
   "display_name": "Python 3",
   "language": "python",
   "name": "python3"
  },
  "language_info": {
   "codemirror_mode": {
    "name": "ipython",
    "version": 3
   },
   "file_extension": ".py",
   "mimetype": "text/x-python",
   "name": "python",
   "nbconvert_exporter": "python",
   "pygments_lexer": "ipython3",
   "version": "3.11.1"
  },
  "orig_nbformat": 4
 },
 "nbformat": 4,
 "nbformat_minor": 2
}
