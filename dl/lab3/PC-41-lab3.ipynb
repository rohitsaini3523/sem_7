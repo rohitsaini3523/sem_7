{
 "cells": [
  {
   "cell_type": "code",
   "execution_count": 1,
   "metadata": {},
   "outputs": [
    {
     "name": "stdout",
     "output_type": "stream",
     "text": [
      "10\n"
     ]
    }
   ],
   "source": [
    "#Lab 3\n",
    "import tensorflow as tf\n",
    "%load_ext tensorboard \n",
    "#load tensorBoard extension\n",
    "\n",
    "with tf.compat.v1.Session() as session:\n",
    "    a = tf.constant(4,name=\"input_A\")\n",
    "    b = tf.constant(6,name=\"input_b\")\n",
    "    c = tf.add(a,b,name=\"Result\")\n",
    "    writer = tf.compat.v1.summary.FileWriter(\"./logs\",session.graph)\n",
    "    print(session.run(c))\n",
    "    session.close()\n"
   ]
  },
  {
   "cell_type": "code",
   "execution_count": 2,
   "metadata": {},
   "outputs": [
    {
     "name": "stdout",
     "output_type": "stream",
     "text": [
      "The tensorboard extension is already loaded. To reload it, use:\n",
      "  %reload_ext tensorboard\n",
      "-13.212788\n"
     ]
    }
   ],
   "source": [
    "#Q1 Expression: (a+b)*(c-d)*(e/f)\n",
    "import tensorflow as tf\n",
    "%reload_ext tensorboard\n",
    "%load_ext tensorboard\n",
    "#load tensorBoard extension\n",
    "\n",
    "with tf.compat.v1.Session() as session:\n",
    "    a = tf.constant(4.0,name=\"input_A\")\n",
    "    b = tf.constant(6.1,name=\"input_b\")\n",
    "    ans_1 = tf.add(a,b,name=\"input_1\")\n",
    "    c = tf.constant(4.2,name=\"input_c\")\n",
    "    d = tf.constant(6.1,name=\"input_d\")\n",
    "    ans_2 = tf.subtract(c,d,name=\"input_2\")\n",
    "    e = tf.constant(18.0,name=\"input_e\")\n",
    "    f = tf.constant(6.0,name=\"input_f\")\n",
    "    ans_3 = tf.divide(c,d,name=\"input_3\")\n",
    "    ans_4 = tf.multiply(ans_1,ans_2,name=\"product_1\")\n",
    "    final = tf.multiply(ans_4,ans_3,name=\"product_final\")\n",
    "    writer = tf.compat.v1.summary.FileWriter(\"./logs\",session.graph)\n",
    "    print(session.run(final))\n",
    "    session.close()"
   ]
  },
  {
   "cell_type": "code",
   "execution_count": 3,
   "metadata": {},
   "outputs": [
    {
     "name": "stdout",
     "output_type": "stream",
     "text": [
      "The tensorboard extension is already loaded. To reload it, use:\n",
      "  %reload_ext tensorboard\n",
      "285.83002\n"
     ]
    }
   ],
   "source": [
    "#Q2: (x1-x2)*(x3+x4+x5)\n",
    "import tensorflow as tf\n",
    "%reload_ext tensorboard\n",
    "%load_ext tensorboard\n",
    "#load tensorBoard extension\n",
    "\n",
    "with tf.compat.v1.Session() as session:\n",
    "    x1 = tf.constant(4.0,name=\"input_x1\")\n",
    "    x2 = tf.constant(6.1,name=\"input_x2\")\n",
    "    ans_1 = tf.add(x1,x2,name=\"input_1\")\n",
    "    x3 = tf.constant(4.2,name=\"input_x3\")\n",
    "    x4 = tf.constant(6.1,name=\"input_x4\")\n",
    "    x5 = tf.constant(18.0,name=\"input_x5\")\n",
    "    ans_3 = tf.add(x3,x4,name=\"input_2\")\n",
    "    ans_4 = tf.add(x5,ans_3,name=\"input_2\")\n",
    "    final = tf.multiply(ans_4,ans_1,name=\"product_final\")\n",
    "    writer = tf.compat.v1.summary.FileWriter(\"./logs\",session.graph)\n",
    "    print(session.run(final))\n",
    "    session.close()"
   ]
  },
  {
   "cell_type": "code",
   "execution_count": 4,
   "metadata": {},
   "outputs": [
    {
     "name": "stdout",
     "output_type": "stream",
     "text": [
      "The tensorboard extension is already loaded. To reload it, use:\n",
      "  %reload_ext tensorboard\n",
      "45.0\n"
     ]
    }
   ],
   "source": [
    "# rm -rf logs/\n",
    "# to delete logs\n",
    "import tensorflow as tf\n",
    "%reload_ext tensorboard\n",
    "%load_ext tensorboard\n",
    "#load tensorBoard extension\n",
    "\n",
    "with tf.compat.v1.Session() as session:\n",
    "    x1 = tf.constant(4.0,name=\"input_x1\")\n",
    "    x2 = tf.constant(6.1,name=\"input_x2\")\n",
    "    x3 = tf.constant(4.2,name=\"input_x3\")\n",
    "    x4 = tf.constant(6.1,name=\"input_x4\")\n",
    "    ans_1 = tf.add(x1,x2,name=\"Hidden_layer_1\")\n",
    "    ans_1_1 = tf.add(ans_1,x3,name=\"Hidden_layer_1\")\n",
    "    ans_2 = tf.add(x2,x3,name=\"Hidden_layer_1_2\")\n",
    "    ans_3 = tf.add(x1,x4,name=\"Hidden_layer_1_3\")\n",
    "    ans_4 = tf.add(ans_1_1,ans_2,name=\"Hidden_layer_2_1\")\n",
    "    ans_5 = tf.add(ans_2,ans_3,name=\"Hidden_layer_2_2\")\n",
    "    final  = tf.add(ans_4,ans_5,name=\"Output_layer\")\n",
    "    writer = tf.compat.v1.summary.FileWriter(\"./logs\",session.graph)\n",
    "    print(session.run(final))\n",
    "    session.close()"
   ]
  }
 ],
 "metadata": {
  "kernelspec": {
   "display_name": "Python 3 (ipykernel)",
   "language": "python",
   "name": "python3"
  },
  "language_info": {
   "codemirror_mode": {
    "name": "ipython",
    "version": 3
   },
   "file_extension": ".py",
   "mimetype": "text/x-python",
   "name": "python",
   "nbconvert_exporter": "python",
   "pygments_lexer": "ipython3",
   "version": "3.11.5"
  }
 },
 "nbformat": 4,
 "nbformat_minor": 4
}
